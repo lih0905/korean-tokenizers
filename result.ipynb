{
 "cells": [
  {
   "cell_type": "code",
   "execution_count": 43,
   "metadata": {},
   "outputs": [],
   "source": [
    "import json\n",
    "import pandas as pd\n",
    "import matplotlib.pyplot as plt\n",
    "import seaborn as sns"
   ]
  },
  {
   "cell_type": "markdown",
   "metadata": {},
   "source": [
    "훈련 결과 파일을 불러오자."
   ]
  },
  {
   "cell_type": "code",
   "execution_count": 16,
   "metadata": {},
   "outputs": [
    {
     "name": "stdout",
     "output_type": "stream",
     "text": [
      "dict_keys(['space', 'character', 'khaiii', 'mecab', 'okt', 'komoran', 'bert', 'kobert', 'koelectra'])\n"
     ]
    }
   ],
   "source": [
    "with open('result.json','r') as f:\n",
    "    d = json.load(f)\n",
    "\n",
    "print(d.keys())"
   ]
  },
  {
   "cell_type": "markdown",
   "metadata": {},
   "source": [
    "각 토크나이저별 데이터는 다음과 같이 이루어져 있다.\n",
    "\n",
    "* loss : 에폭별 손실\n",
    "* acc : 에폭별 정확도\n",
    "* training time : 에폭별 훈련시간\n",
    "* data loading time : 토큰화하는데 걸린 시간\n",
    "* num. vocabs : 최종 생성된 토큰수 (최대 30,002개)"
   ]
  },
  {
   "cell_type": "code",
   "execution_count": 18,
   "metadata": {},
   "outputs": [
    {
     "data": {
      "text/plain": [
       "{'loss': [0.506,\n",
       "  0.462,\n",
       "  0.443,\n",
       "  0.439,\n",
       "  0.433,\n",
       "  0.428,\n",
       "  0.436,\n",
       "  0.439,\n",
       "  0.439,\n",
       "  0.448],\n",
       " 'acc': [0.733, 0.766, 0.776, 0.784, 0.788, 0.791, 0.792, 0.793, 0.792, 0.791],\n",
       " 'training time': [17.383,\n",
       "  17.337,\n",
       "  17.396,\n",
       "  17.432,\n",
       "  17.424,\n",
       "  17.472,\n",
       "  17.48,\n",
       "  17.471,\n",
       "  17.444,\n",
       "  17.499],\n",
       " 'data loading time': 1.706,\n",
       " 'num. vocabs': 30002}"
      ]
     },
     "execution_count": 18,
     "metadata": {},
     "output_type": "execute_result"
    }
   ],
   "source": [
    "d['space']"
   ]
  },
  {
   "cell_type": "markdown",
   "metadata": {},
   "source": [
    "평균 훈련 시간 컬럼 생성"
   ]
  },
  {
   "cell_type": "code",
   "execution_count": 19,
   "metadata": {},
   "outputs": [],
   "source": [
    "for k in d.keys():\n",
    "    d[k]['training_time_avg'] = sum(d[k]['training time'])/len(d[k]['training time'])"
   ]
  },
  {
   "cell_type": "markdown",
   "metadata": {},
   "source": [
    "손실과 정확도만 따로 저장하자."
   ]
  },
  {
   "cell_type": "code",
   "execution_count": 20,
   "metadata": {},
   "outputs": [],
   "source": [
    "loss = {k:d[k]['loss'] for k in d.keys()}\n",
    "acc = {k:d[k]['acc'] for k in d.keys()}"
   ]
  },
  {
   "cell_type": "markdown",
   "metadata": {},
   "source": [
    "kobert는 HuggingFace에 올라온 모델의 성능이 영 좋지 않아서 삭제하자."
   ]
  },
  {
   "cell_type": "code",
   "execution_count": 44,
   "metadata": {},
   "outputs": [
    {
     "data": {
      "text/html": [
       "<div>\n",
       "<style scoped>\n",
       "    .dataframe tbody tr th:only-of-type {\n",
       "        vertical-align: middle;\n",
       "    }\n",
       "\n",
       "    .dataframe tbody tr th {\n",
       "        vertical-align: top;\n",
       "    }\n",
       "\n",
       "    .dataframe thead th {\n",
       "        text-align: right;\n",
       "    }\n",
       "</style>\n",
       "<table border=\"1\" class=\"dataframe\">\n",
       "  <thead>\n",
       "    <tr style=\"text-align: right;\">\n",
       "      <th></th>\n",
       "      <th>space</th>\n",
       "      <th>character</th>\n",
       "      <th>khaiii</th>\n",
       "      <th>mecab</th>\n",
       "      <th>okt</th>\n",
       "      <th>komoran</th>\n",
       "      <th>bert</th>\n",
       "      <th>koelectra</th>\n",
       "    </tr>\n",
       "  </thead>\n",
       "  <tbody>\n",
       "    <tr>\n",
       "      <th>1</th>\n",
       "      <td>0.506</td>\n",
       "      <td>0.401</td>\n",
       "      <td>0.390</td>\n",
       "      <td>0.365</td>\n",
       "      <td>0.408</td>\n",
       "      <td>0.380</td>\n",
       "      <td>0.425</td>\n",
       "      <td>0.398</td>\n",
       "    </tr>\n",
       "    <tr>\n",
       "      <th>2</th>\n",
       "      <td>0.462</td>\n",
       "      <td>0.355</td>\n",
       "      <td>0.351</td>\n",
       "      <td>0.339</td>\n",
       "      <td>0.363</td>\n",
       "      <td>0.348</td>\n",
       "      <td>0.401</td>\n",
       "      <td>0.355</td>\n",
       "    </tr>\n",
       "    <tr>\n",
       "      <th>3</th>\n",
       "      <td>0.443</td>\n",
       "      <td>0.343</td>\n",
       "      <td>0.331</td>\n",
       "      <td>0.319</td>\n",
       "      <td>0.343</td>\n",
       "      <td>0.341</td>\n",
       "      <td>0.381</td>\n",
       "      <td>0.343</td>\n",
       "    </tr>\n",
       "    <tr>\n",
       "      <th>4</th>\n",
       "      <td>0.439</td>\n",
       "      <td>0.324</td>\n",
       "      <td>0.334</td>\n",
       "      <td>0.313</td>\n",
       "      <td>0.339</td>\n",
       "      <td>0.322</td>\n",
       "      <td>0.374</td>\n",
       "      <td>0.333</td>\n",
       "    </tr>\n",
       "    <tr>\n",
       "      <th>5</th>\n",
       "      <td>0.433</td>\n",
       "      <td>0.318</td>\n",
       "      <td>0.324</td>\n",
       "      <td>0.304</td>\n",
       "      <td>0.323</td>\n",
       "      <td>0.323</td>\n",
       "      <td>0.359</td>\n",
       "      <td>0.331</td>\n",
       "    </tr>\n",
       "    <tr>\n",
       "      <th>6</th>\n",
       "      <td>0.428</td>\n",
       "      <td>0.316</td>\n",
       "      <td>0.321</td>\n",
       "      <td>0.307</td>\n",
       "      <td>0.330</td>\n",
       "      <td>0.313</td>\n",
       "      <td>0.359</td>\n",
       "      <td>0.324</td>\n",
       "    </tr>\n",
       "    <tr>\n",
       "      <th>7</th>\n",
       "      <td>0.436</td>\n",
       "      <td>0.325</td>\n",
       "      <td>0.322</td>\n",
       "      <td>0.317</td>\n",
       "      <td>0.331</td>\n",
       "      <td>0.332</td>\n",
       "      <td>0.371</td>\n",
       "      <td>0.331</td>\n",
       "    </tr>\n",
       "    <tr>\n",
       "      <th>8</th>\n",
       "      <td>0.439</td>\n",
       "      <td>0.312</td>\n",
       "      <td>0.322</td>\n",
       "      <td>0.308</td>\n",
       "      <td>0.338</td>\n",
       "      <td>0.319</td>\n",
       "      <td>0.366</td>\n",
       "      <td>0.329</td>\n",
       "    </tr>\n",
       "    <tr>\n",
       "      <th>9</th>\n",
       "      <td>0.439</td>\n",
       "      <td>0.322</td>\n",
       "      <td>0.316</td>\n",
       "      <td>0.308</td>\n",
       "      <td>0.340</td>\n",
       "      <td>0.321</td>\n",
       "      <td>0.357</td>\n",
       "      <td>0.320</td>\n",
       "    </tr>\n",
       "    <tr>\n",
       "      <th>10</th>\n",
       "      <td>0.448</td>\n",
       "      <td>0.318</td>\n",
       "      <td>0.328</td>\n",
       "      <td>0.315</td>\n",
       "      <td>0.346</td>\n",
       "      <td>0.325</td>\n",
       "      <td>0.352</td>\n",
       "      <td>0.338</td>\n",
       "    </tr>\n",
       "  </tbody>\n",
       "</table>\n",
       "</div>"
      ],
      "text/plain": [
       "    space  character  khaiii  mecab    okt  komoran   bert  koelectra\n",
       "1   0.506      0.401   0.390  0.365  0.408    0.380  0.425      0.398\n",
       "2   0.462      0.355   0.351  0.339  0.363    0.348  0.401      0.355\n",
       "3   0.443      0.343   0.331  0.319  0.343    0.341  0.381      0.343\n",
       "4   0.439      0.324   0.334  0.313  0.339    0.322  0.374      0.333\n",
       "5   0.433      0.318   0.324  0.304  0.323    0.323  0.359      0.331\n",
       "6   0.428      0.316   0.321  0.307  0.330    0.313  0.359      0.324\n",
       "7   0.436      0.325   0.322  0.317  0.331    0.332  0.371      0.331\n",
       "8   0.439      0.312   0.322  0.308  0.338    0.319  0.366      0.329\n",
       "9   0.439      0.322   0.316  0.308  0.340    0.321  0.357      0.320\n",
       "10  0.448      0.318   0.328  0.315  0.346    0.325  0.352      0.338"
      ]
     },
     "execution_count": 44,
     "metadata": {},
     "output_type": "execute_result"
    }
   ],
   "source": [
    "df_loss = pd.DataFrame.from_dict(loss)\n",
    "df_loss = df_loss.drop('kobert', axis=1)\n",
    "df_loss.index = range(1,11)\n",
    "df_loss"
   ]
  },
  {
   "cell_type": "code",
   "execution_count": 45,
   "metadata": {},
   "outputs": [
    {
     "data": {
      "text/plain": [
       "<matplotlib.axes._subplots.AxesSubplot at 0x7f1d58a8a7b8>"
      ]
     },
     "execution_count": 45,
     "metadata": {},
     "output_type": "execute_result"
    },
    {
     "data": {
      "image/png": "[encoded data removed]",
      "text/plain": [
       "<Figure size 432x288 with 1 Axes>"
      ]
     },
     "metadata": {
      "needs_background": "light"
     },
     "output_type": "display_data"
    }
   ],
   "source": [
    "df_loss.plot()"
   ]
  },
  {
   "cell_type": "code",
   "execution_count": 46,
   "metadata": {},
   "outputs": [
    {
     "data": {
      "text/html": [
       "<div>\n",
       "<style scoped>\n",
       "    .dataframe tbody tr th:only-of-type {\n",
       "        vertical-align: middle;\n",
       "    }\n",
       "\n",
       "    .dataframe tbody tr th {\n",
       "        vertical-align: top;\n",
       "    }\n",
       "\n",
       "    .dataframe thead th {\n",
       "        text-align: right;\n",
       "    }\n",
       "</style>\n",
       "<table border=\"1\" class=\"dataframe\">\n",
       "  <thead>\n",
       "    <tr style=\"text-align: right;\">\n",
       "      <th></th>\n",
       "      <th>space</th>\n",
       "      <th>character</th>\n",
       "      <th>khaiii</th>\n",
       "      <th>mecab</th>\n",
       "      <th>okt</th>\n",
       "      <th>komoran</th>\n",
       "      <th>bert</th>\n",
       "      <th>koelectra</th>\n",
       "    </tr>\n",
       "  </thead>\n",
       "  <tbody>\n",
       "    <tr>\n",
       "      <th>1</th>\n",
       "      <td>0.733</td>\n",
       "      <td>0.823</td>\n",
       "      <td>0.820</td>\n",
       "      <td>0.836</td>\n",
       "      <td>0.813</td>\n",
       "      <td>0.830</td>\n",
       "      <td>0.802</td>\n",
       "      <td>0.819</td>\n",
       "    </tr>\n",
       "    <tr>\n",
       "      <th>2</th>\n",
       "      <td>0.766</td>\n",
       "      <td>0.845</td>\n",
       "      <td>0.844</td>\n",
       "      <td>0.853</td>\n",
       "      <td>0.839</td>\n",
       "      <td>0.849</td>\n",
       "      <td>0.819</td>\n",
       "      <td>0.844</td>\n",
       "    </tr>\n",
       "    <tr>\n",
       "      <th>3</th>\n",
       "      <td>0.776</td>\n",
       "      <td>0.852</td>\n",
       "      <td>0.853</td>\n",
       "      <td>0.862</td>\n",
       "      <td>0.849</td>\n",
       "      <td>0.852</td>\n",
       "      <td>0.833</td>\n",
       "      <td>0.851</td>\n",
       "    </tr>\n",
       "    <tr>\n",
       "      <th>4</th>\n",
       "      <td>0.784</td>\n",
       "      <td>0.861</td>\n",
       "      <td>0.859</td>\n",
       "      <td>0.868</td>\n",
       "      <td>0.855</td>\n",
       "      <td>0.864</td>\n",
       "      <td>0.838</td>\n",
       "      <td>0.857</td>\n",
       "    </tr>\n",
       "    <tr>\n",
       "      <th>5</th>\n",
       "      <td>0.788</td>\n",
       "      <td>0.864</td>\n",
       "      <td>0.863</td>\n",
       "      <td>0.872</td>\n",
       "      <td>0.859</td>\n",
       "      <td>0.865</td>\n",
       "      <td>0.844</td>\n",
       "      <td>0.859</td>\n",
       "    </tr>\n",
       "    <tr>\n",
       "      <th>6</th>\n",
       "      <td>0.791</td>\n",
       "      <td>0.866</td>\n",
       "      <td>0.867</td>\n",
       "      <td>0.875</td>\n",
       "      <td>0.861</td>\n",
       "      <td>0.868</td>\n",
       "      <td>0.845</td>\n",
       "      <td>0.862</td>\n",
       "    </tr>\n",
       "    <tr>\n",
       "      <th>7</th>\n",
       "      <td>0.792</td>\n",
       "      <td>0.868</td>\n",
       "      <td>0.867</td>\n",
       "      <td>0.876</td>\n",
       "      <td>0.864</td>\n",
       "      <td>0.869</td>\n",
       "      <td>0.847</td>\n",
       "      <td>0.864</td>\n",
       "    </tr>\n",
       "    <tr>\n",
       "      <th>8</th>\n",
       "      <td>0.793</td>\n",
       "      <td>0.870</td>\n",
       "      <td>0.868</td>\n",
       "      <td>0.877</td>\n",
       "      <td>0.865</td>\n",
       "      <td>0.871</td>\n",
       "      <td>0.849</td>\n",
       "      <td>0.864</td>\n",
       "    </tr>\n",
       "    <tr>\n",
       "      <th>9</th>\n",
       "      <td>0.792</td>\n",
       "      <td>0.868</td>\n",
       "      <td>0.868</td>\n",
       "      <td>0.874</td>\n",
       "      <td>0.865</td>\n",
       "      <td>0.870</td>\n",
       "      <td>0.850</td>\n",
       "      <td>0.866</td>\n",
       "    </tr>\n",
       "    <tr>\n",
       "      <th>10</th>\n",
       "      <td>0.791</td>\n",
       "      <td>0.872</td>\n",
       "      <td>0.870</td>\n",
       "      <td>0.877</td>\n",
       "      <td>0.867</td>\n",
       "      <td>0.868</td>\n",
       "      <td>0.852</td>\n",
       "      <td>0.866</td>\n",
       "    </tr>\n",
       "  </tbody>\n",
       "</table>\n",
       "</div>"
      ],
      "text/plain": [
       "    space  character  khaiii  mecab    okt  komoran   bert  koelectra\n",
       "1   0.733      0.823   0.820  0.836  0.813    0.830  0.802      0.819\n",
       "2   0.766      0.845   0.844  0.853  0.839    0.849  0.819      0.844\n",
       "3   0.776      0.852   0.853  0.862  0.849    0.852  0.833      0.851\n",
       "4   0.784      0.861   0.859  0.868  0.855    0.864  0.838      0.857\n",
       "5   0.788      0.864   0.863  0.872  0.859    0.865  0.844      0.859\n",
       "6   0.791      0.866   0.867  0.875  0.861    0.868  0.845      0.862\n",
       "7   0.792      0.868   0.867  0.876  0.864    0.869  0.847      0.864\n",
       "8   0.793      0.870   0.868  0.877  0.865    0.871  0.849      0.864\n",
       "9   0.792      0.868   0.868  0.874  0.865    0.870  0.850      0.866\n",
       "10  0.791      0.872   0.870  0.877  0.867    0.868  0.852      0.866"
      ]
     },
     "execution_count": 46,
     "metadata": {},
     "output_type": "execute_result"
    }
   ],
   "source": [
    "df_acc = pd.DataFrame.from_dict(acc)\n",
    "df_acc = df_acc.drop('kobert', axis=1)\n",
    "df_acc.index = range(1,11)\n",
    "df_acc"
   ]
  },
  {
   "cell_type": "code",
   "execution_count": 47,
   "metadata": {},
   "outputs": [
    {
     "data": {
      "text/plain": [
       "<matplotlib.axes._subplots.AxesSubplot at 0x7f1d589eadd8>"
      ]
     },
     "execution_count": 47,
     "metadata": {},
     "output_type": "execute_result"
    },
    {
     "data": {
      "image/png": "[encoded data removed]",
      "text/plain": [
       "<Figure size 432x288 with 1 Axes>"
      ]
     },
     "metadata": {
      "needs_background": "light"
     },
     "output_type": "display_data"
    }
   ],
   "source": [
    "df_acc.plot()"
   ]
  },
  {
   "cell_type": "markdown",
   "metadata": {},
   "source": [
    "이번엔 모델별 토크나이징 시간 및 훈련 시간을 비교해보자."
   ]
  },
  {
   "cell_type": "code",
   "execution_count": 48,
   "metadata": {},
   "outputs": [],
   "source": [
    "d_time = {k: {'training_time_avg':d[k]['training_time_avg'],\n",
    "              'tokenizing_time':d[k]['data loading time'],\n",
    "              'num. vocabs':d[k]['num. vocabs']\n",
    "             } for k in d.keys()}"
   ]
  },
  {
   "cell_type": "code",
   "execution_count": 49,
   "metadata": {},
   "outputs": [
    {
     "data": {
      "text/html": [
       "<div>\n",
       "<style scoped>\n",
       "    .dataframe tbody tr th:only-of-type {\n",
       "        vertical-align: middle;\n",
       "    }\n",
       "\n",
       "    .dataframe tbody tr th {\n",
       "        vertical-align: top;\n",
       "    }\n",
       "\n",
       "    .dataframe thead th {\n",
       "        text-align: right;\n",
       "    }\n",
       "</style>\n",
       "<table border=\"1\" class=\"dataframe\">\n",
       "  <thead>\n",
       "    <tr style=\"text-align: right;\">\n",
       "      <th></th>\n",
       "      <th>space</th>\n",
       "      <th>character</th>\n",
       "      <th>khaiii</th>\n",
       "      <th>mecab</th>\n",
       "      <th>okt</th>\n",
       "      <th>komoran</th>\n",
       "      <th>bert</th>\n",
       "      <th>kobert</th>\n",
       "      <th>koelectra</th>\n",
       "    </tr>\n",
       "  </thead>\n",
       "  <tbody>\n",
       "    <tr>\n",
       "      <th>training_time_avg</th>\n",
       "      <td>17.4338</td>\n",
       "      <td>52.1952</td>\n",
       "      <td>33.734</td>\n",
       "      <td>31.5963</td>\n",
       "      <td>26.2123</td>\n",
       "      <td>32.615</td>\n",
       "      <td>37.6294</td>\n",
       "      <td>18.7762</td>\n",
       "      <td>33.7899</td>\n",
       "    </tr>\n",
       "    <tr>\n",
       "      <th>tokenizing_time</th>\n",
       "      <td>1.7060</td>\n",
       "      <td>2.1910</td>\n",
       "      <td>123.492</td>\n",
       "      <td>9.2020</td>\n",
       "      <td>265.3030</td>\n",
       "      <td>98.398</td>\n",
       "      <td>18.7480</td>\n",
       "      <td>18.3730</td>\n",
       "      <td>18.1900</td>\n",
       "    </tr>\n",
       "    <tr>\n",
       "      <th>num. vocabs</th>\n",
       "      <td>30002.0000</td>\n",
       "      <td>3006.0000</td>\n",
       "      <td>30002.000</td>\n",
       "      <td>30002.0000</td>\n",
       "      <td>30002.0000</td>\n",
       "      <td>30002.000</td>\n",
       "      <td>6850.0000</td>\n",
       "      <td>2018.0000</td>\n",
       "      <td>21670.0000</td>\n",
       "    </tr>\n",
       "  </tbody>\n",
       "</table>\n",
       "</div>"
      ],
      "text/plain": [
       "                        space  character     khaiii       mecab         okt  \\\n",
       "training_time_avg     17.4338    52.1952     33.734     31.5963     26.2123   \n",
       "tokenizing_time        1.7060     2.1910    123.492      9.2020    265.3030   \n",
       "num. vocabs        30002.0000  3006.0000  30002.000  30002.0000  30002.0000   \n",
       "\n",
       "                     komoran       bert     kobert   koelectra  \n",
       "training_time_avg     32.615    37.6294    18.7762     33.7899  \n",
       "tokenizing_time       98.398    18.7480    18.3730     18.1900  \n",
       "num. vocabs        30002.000  6850.0000  2018.0000  21670.0000  "
      ]
     },
     "execution_count": 49,
     "metadata": {},
     "output_type": "execute_result"
    }
   ],
   "source": [
    "df_time = pd.DataFrame.from_dict(d_time)\n",
    "df_time"
   ]
  },
  {
   "cell_type": "markdown",
   "metadata": {},
   "source": [
    "훈련 시간은 의외로 음절 단위로 끊었을 때 오래 걸리는 편이며, 띄어쓰기가 가장 빠른 편."
   ]
  },
  {
   "cell_type": "code",
   "execution_count": 50,
   "metadata": {},
   "outputs": [
    {
     "data": {
      "text/plain": [
       "<BarContainer object of 9 artists>"
      ]
     },
     "execution_count": 50,
     "metadata": {},
     "output_type": "execute_result"
    },
    {
     "data": {
      "image/png": "[encoded data removed]",
      "text/plain": [
       "<Figure size 432x288 with 1 Axes>"
      ]
     },
     "metadata": {
      "needs_background": "light"
     },
     "output_type": "display_data"
    }
   ],
   "source": [
    "plt.bar(df_time.columns, df_time.iloc[0])"
   ]
  },
  {
   "cell_type": "markdown",
   "metadata": {},
   "source": [
    "토크나이징 시간은 공백/음절 단위가 가장 빠르며, 일부 한글 토크나이저들의 성능이 매우 떨어지는 편이다."
   ]
  },
  {
   "cell_type": "code",
   "execution_count": 51,
   "metadata": {},
   "outputs": [
    {
     "data": {
      "text/plain": [
       "<BarContainer object of 9 artists>"
      ]
     },
     "execution_count": 51,
     "metadata": {},
     "output_type": "execute_result"
    },
    {
     "data": {
      "image/png": "[encoded data removed]",
      "text/plain": [
       "<Figure size 432x288 with 1 Axes>"
      ]
     },
     "metadata": {
      "needs_background": "light"
     },
     "output_type": "display_data"
    }
   ],
   "source": [
    "plt.bar(df_time.columns, df_time.iloc[1])"
   ]
  },
  {
   "cell_type": "markdown",
   "metadata": {},
   "source": [
    "단어의 갯수는 음절 단위 및 bert가 압도적으로 적은 편이며, 나머지는 대부분 최대치인 30,000개를 기록했다."
   ]
  },
  {
   "cell_type": "code",
   "execution_count": 52,
   "metadata": {},
   "outputs": [
    {
     "data": {
      "text/plain": [
       "<BarContainer object of 9 artists>"
      ]
     },
     "execution_count": 52,
     "metadata": {},
     "output_type": "execute_result"
    },
    {
     "data": {
      "image/png": "[encoded data removed]",
      "text/plain": [
       "<Figure size 432x288 with 1 Axes>"
      ]
     },
     "metadata": {
      "needs_background": "light"
     },
     "output_type": "display_data"
    }
   ],
   "source": [
    "plt.bar(df_time.columns, df_time.iloc[2])"
   ]
  },
  {
   "cell_type": "markdown",
   "metadata": {},
   "source": [
    "## 성능\n",
    "\n",
    "은전한닢으로 대동단결하자... 그리고 띄어쓰기 토크나이저는 영 못쓸 정도이지만, 음절 단위 토크나이저는 성능이나 토크나이징 시간에서 생각보다 꽤 괜찮은 편이다. 다만 훈련 시간이 오래 걸리는 단점이 있다."
   ]
  },
  {
   "cell_type": "code",
   "execution_count": null,
   "metadata": {},
   "outputs": [],
   "source": []
  }
 ],
 "metadata": {
  "kernelspec": {
   "display_name": "Python 3",
   "language": "python",
   "name": "python3"
  },
  "language_info": {
   "codemirror_mode": {
    "name": "ipython",
    "version": 3
   },
   "file_extension": ".py",
   "mimetype": "text/x-python",
   "name": "python",
   "nbconvert_exporter": "python",
   "pygments_lexer": "ipython3",
   "version": "3.7.3"
  }
 },
 "nbformat": 4,
 "nbformat_minor": 4
}
